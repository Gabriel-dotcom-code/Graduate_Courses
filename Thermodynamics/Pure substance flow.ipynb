{
 "cells": [
  {
   "cell_type": "code",
   "execution_count": 2,
   "metadata": {},
   "outputs": [],
   "source": [
    "import numpy as np\n",
    "import matplotlib.pyplot as plt"
   ]
  },
  {
   "cell_type": "markdown",
   "metadata": {},
   "source": [
    "# Example 7.4 (Van Ness - pg. 275)\n",
    "Propane gas at 20 bar and 400 K is throttled in a steady-state flow process to 1 bar.\n",
    "Estimate the final temperature of the propane and its entropy change. Properties of\n",
    "propane can be found from suitable generalized correlations."
   ]
  },
  {
   "cell_type": "markdown",
   "metadata": {},
   "source": [
    "To begin, we write the overall enthalpy change as the sum of three components:\n",
    "1. removal of residual enthalpy at state 1\n",
    "2. sensible heat to take the substance from the ideal-gas state at the initial temperature to the ideal-gas state at the final temperature,\n",
    "3. adding the residual enthalpy at state 2."
   ]
  },
  {
   "cell_type": "markdown",
   "metadata": {},
   "source": [
    "$\\Delta{H} = -H^R_1 + (C^{ig}_p)_H * (T_2 - T_1) + H^R_2=0$"
   ]
  },
  {
   "cell_type": "markdown",
   "metadata": {},
   "source": [
    "Considering:\n",
    "* Given $P_{final} = 1 \\rightarrow$ ideal gas behaviour\n",
    "* Therefor, $\\Delta {H}^R_2=0$\n",
    "* Eq (1) reduces to: $T_2=\\frac{H^R_1}{(C^{ig}_p)_H + T_1}$"
   ]
  },
  {
   "cell_type": "code",
   "execution_count": 3,
   "metadata": {},
   "outputs": [],
   "source": [
    "# initial data\n",
    "P_final = 1   # [bar]\n",
    "P_inicial = 20   # [bar]\n",
    "T_inicial = 400   # [K]\n",
    "\n",
    "R = 8.314   # [J/(mol*K)]\n",
    "\n",
    "# critical properties\n",
    "Tc = 369.8   # [K]\n",
    "Pc = 42.48   # [bar]\n",
    "accentric_factor = 0.152"
   ]
  },
  {
   "cell_type": "code",
   "execution_count": 4,
   "metadata": {},
   "outputs": [
    {
     "name": "stdout",
     "output_type": "stream",
     "text": [
      "Temperature deviation as to the initial value: -3.69 %\n"
     ]
    }
   ],
   "source": [
    "def residual_properties(Tc, Pc, omega):\n",
    "    # reduced properties\n",
    "    Tr1 = T_inicial / Tc\n",
    "    Pr1 = P_inicial / Pc\n",
    "\n",
    "    # 1st virial coefficient\n",
    "    B_0 = 0.083 - (0.422 / Tr1**1.6)\n",
    "    # 2nd virial coefficient\n",
    "    B_1 = 0.139 - (0.172 / Tr1**4.2)\n",
    "\n",
    "    # first derivative of the 1st virial coefficient\n",
    "    dB_0dTr = 0.675/(Tr1**2.6)\n",
    "    dB_1dTr = 0.722/(Tr1**5.2)\n",
    "\n",
    "    # residual enthalpy\n",
    "    Hr = (Pr1 * (B_0 - (Tr1 * dB_0dTr) + omega * (B_1 - Tr1 * dB_1dTr))) * R * Tc # [J/mol]\n",
    "\n",
    "    # residual entropy\n",
    "    Sr = -Pr1 * (dB_0dTr + omega * dB_1dTr) * R  # [J/(mol*K)]\n",
    "\n",
    "    return Hr, Sr\n",
    "\n",
    "Hr = residual_properties(Tc, Pc, accentric_factor)[0]\n",
    "Sr = residual_properties(Tc, Pc, accentric_factor)[1]\n",
    "\n",
    "# cp ideal gas\n",
    "def cp_ideal(T):\n",
    "    return (1.213 + (28.875E-3 * T) - (8.824E-6 * (T**2)))*R\n",
    "\n",
    "# initially we consider Cp as the value at the initial conditions\n",
    "# from initial data: T=400 K\n",
    "Cp_ideal = cp_ideal(T_inicial)\n",
    "\n",
    "T2 = Hr / Cp_ideal + T_inicial\n",
    "\n",
    "print(f'Temperature deviation as to the initial value: {round(((T2 - T_inicial)/T_inicial)*100,2)} %')"
   ]
  },
  {
   "cell_type": "code",
   "execution_count": 7,
   "metadata": {},
   "outputs": [
    {
     "name": "stdout",
     "output_type": "stream",
     "text": [
      "Cp deviation as to the initial value: -1.42 %\n",
      "Final Temperatura: 385.05 K\n"
     ]
    }
   ],
   "source": [
    "# visto que a mudança de temperatura é muito pequena, podmeos considerar a média das temperaturas\n",
    "T_am = (T_inicial + T2) / 2\n",
    "\n",
    "cp_am = cp_ideal(T_am)\n",
    "\n",
    "print(f'Cp deviation as to the initial value: {round(((cp_am - Cp_ideal)/Cp_ideal)*100,2)} %')\n",
    "\n",
    "# valor da temperatura estado 2\n",
    "T_2 = Hr / cp_am + T_inicial\n",
    "print(f'Final Temperatura: {round(T_2,2)} K')"
   ]
  },
  {
   "cell_type": "code",
   "execution_count": 8,
   "metadata": {},
   "outputs": [
    {
     "data": {
      "text/plain": [
       "23.75065637810249"
      ]
     },
     "execution_count": 8,
     "metadata": {},
     "output_type": "execute_result"
    }
   ],
   "source": [
    "# we adopt the initial Cp value to calculate the entropy variation (low variation)\n",
    "# therefore, the entropy variation is:\n",
    "delta_S = Cp_ideal * np.log(T_2/T_inicial) - R * np.log(P_final/P_inicial) - Sr\n",
    "delta_S "
   ]
  },
  {
   "cell_type": "markdown",
   "metadata": {},
   "source": [
    "**Final remarks**  \n",
    "For this case we consider $T_{inicial}=400\\;K|\\;\\;P_{inicial}=20\\;bar$ we have $\\Delta{S}>0$, the positive value reflects the irreversibility of the process."
   ]
  }
 ],
 "metadata": {
  "kernelspec": {
   "display_name": "Python 3",
   "language": "python",
   "name": "python3"
  },
  "language_info": {
   "codemirror_mode": {
    "name": "ipython",
    "version": 3
   },
   "file_extension": ".py",
   "mimetype": "text/x-python",
   "name": "python",
   "nbconvert_exporter": "python",
   "pygments_lexer": "ipython3",
   "version": "3.9.13"
  }
 },
 "nbformat": 4,
 "nbformat_minor": 2
}
